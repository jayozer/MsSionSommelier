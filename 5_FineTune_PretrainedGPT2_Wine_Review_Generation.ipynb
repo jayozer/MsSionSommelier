{
  "nbformat": 4,
  "nbformat_minor": 0,
  "metadata": {
    "colab": {
      "name": "5_FineTune_PretrainedGPT2_Wine_Review_Generation",
      "provenance": [],
      "collapsed_sections": [],
      "toc_visible": true,
      "machine_shape": "hm"
    },
    "kernelspec": {
      "name": "python3",
      "display_name": "Python 3"
    },
    "accelerator": "GPU"
  },
  "cells": [
    {
      "cell_type": "markdown",
      "metadata": {
        "id": "H7LoMj4GA4n_"
      },
      "source": [
        "#  Fine tune a pre-trained GPT2 Wine Review Generation\n",
        "\n",
        "Retrain GPT-2 advanced text generating neural network on wine review corpus to generate short (2 sentence) reviews.\n",
        "\n",
        "Visit [MsSionSommelier GitHub repository](https://github.com/jayozer/MsSionSommelier) for The project information!\n",
        "\n"
      ]
    },
    {
      "cell_type": "code",
      "metadata": {
        "id": "KBkpRgBCBS2_",
        "colab": {
          "base_uri": "https://localhost:8080/"
        },
        "outputId": "845980eb-7bd4-42b6-883c-f46c8f07c9e2"
      },
      "source": [
        "%tensorflow_version 1.x\n",
        "!pip install -q gpt-2-simple\n",
        "import gpt_2_simple as gpt2\n",
        "from datetime import datetime\n",
        "from google.colab import files"
      ],
      "execution_count": 1,
      "outputs": [
        {
          "output_type": "stream",
          "text": [
            "TensorFlow 1.x selected.\n",
            "  Building wheel for gpt-2-simple (setup.py) ... \u001b[?25l\u001b[?25hdone\n",
            "WARNING:tensorflow:\n",
            "The TensorFlow contrib module will not be included in TensorFlow 2.0.\n",
            "For more information, please see:\n",
            "  * https://github.com/tensorflow/community/blob/master/rfcs/20180907-contrib-sunset.md\n",
            "  * https://github.com/tensorflow/addons\n",
            "  * https://github.com/tensorflow/io (for I/O related ops)\n",
            "If you depend on functionality not listed there, please file an issue.\n",
            "\n"
          ],
          "name": "stdout"
        }
      ]
    },
    {
      "cell_type": "code",
      "metadata": {
        "id": "sUmTooTW3osf",
        "colab": {
          "base_uri": "https://localhost:8080/"
        },
        "outputId": "f740531b-4b4e-4449-89dd-a9f2a2d7c463"
      },
      "source": [
        "!nvidia-smi # check which GPU is assigned"
      ],
      "execution_count": 11,
      "outputs": [
        {
          "output_type": "stream",
          "text": [
            "Sun Dec  6 19:55:23 2020       \n",
            "+-----------------------------------------------------------------------------+\n",
            "| NVIDIA-SMI 455.45.01    Driver Version: 418.67       CUDA Version: 10.1     |\n",
            "|-------------------------------+----------------------+----------------------+\n",
            "| GPU  Name        Persistence-M| Bus-Id        Disp.A | Volatile Uncorr. ECC |\n",
            "| Fan  Temp  Perf  Pwr:Usage/Cap|         Memory-Usage | GPU-Util  Compute M. |\n",
            "|                               |                      |               MIG M. |\n",
            "|===============================+======================+======================|\n",
            "|   0  Tesla P100-PCIE...  Off  | 00000000:00:04.0 Off |                    0 |\n",
            "| N/A   66C    P0    42W / 250W |   8587MiB / 16280MiB |      0%      Default |\n",
            "|                               |                      |                 ERR! |\n",
            "+-------------------------------+----------------------+----------------------+\n",
            "                                                                               \n",
            "+-----------------------------------------------------------------------------+\n",
            "| Processes:                                                                  |\n",
            "|  GPU   GI   CI        PID   Type   Process name                  GPU Memory |\n",
            "|        ID   ID                                                   Usage      |\n",
            "|=============================================================================|\n",
            "|  No running processes found                                                 |\n",
            "+-----------------------------------------------------------------------------+\n"
          ],
          "name": "stdout"
        }
      ]
    },
    {
      "cell_type": "markdown",
      "metadata": {
        "id": "0wXB05bPDYxS"
      },
      "source": [
        "## Downloading GPT-2\n",
        "\n",
        "Since I am retraining a model on new text I need to download GPT-2 first. Initially I ran 124M and then with 355 to increase accuracy. In my opinion both worked like a champ.\n",
        "\n",
        "There are three released sizes of GPT-2:\n",
        "\n",
        "* `124M` (default): the \"small\" model, 500MB on disk.\n",
        "* `355M`: the \"medium\" model, 1.5GB on disk.\n",
        "* `774M` and `1558M`: the \"large\" model, cannot currently be finetuned with Colaboratory but can be used to generate text from the pretrained model\n",
        "\n",
        "**Keeping some of the instructions in case**: Larger models have more knowledge, but take longer to finetune and longer to generate text. You can specify which base model to use by changing `model_name` in the cells below. The next cell downloads it from Google Cloud Storage and saves it in the Colaboratory VM at `/models/<model_name>`. This model isn't permanently saved in the Colaboratory VM; you'll have to redownload it if you want to retrain it at a later time."
      ]
    },
    {
      "cell_type": "code",
      "metadata": {
        "id": "P8wSlgXoDPCR",
        "colab": {
          "base_uri": "https://localhost:8080/"
        },
        "outputId": "6bf02c5e-e201-48df-e6ab-a80904bb4c3c"
      },
      "source": [
        "gpt2.download_gpt2(model_name=\"355M\")"
      ],
      "execution_count": 9,
      "outputs": [
        {
          "output_type": "stream",
          "text": [
            "Fetching checkpoint: 1.05Mit [00:00, 683Mit/s]                                                      \n",
            "Fetching encoder.json: 1.05Mit [00:00, 89.2Mit/s]                                                   \n",
            "Fetching hparams.json: 1.05Mit [00:00, 732Mit/s]                                                    \n",
            "Fetching model.ckpt.data-00000-of-00001: 1.42Git [00:11, 125Mit/s]                                  \n",
            "Fetching model.ckpt.index: 1.05Mit [00:00, 572Mit/s]                                                \n",
            "Fetching model.ckpt.meta: 1.05Mit [00:00, 110Mit/s]                                                 \n",
            "Fetching vocab.bpe: 1.05Mit [00:00, 182Mit/s]                                                       \n"
          ],
          "name": "stderr"
        }
      ]
    },
    {
      "cell_type": "markdown",
      "metadata": {
        "id": "N8KXuKWzQSsN"
      },
      "source": [
        "#### Mounting Google Drive"
      ]
    },
    {
      "cell_type": "code",
      "metadata": {
        "id": "puq4iC6vUAHc",
        "colab": {
          "base_uri": "https://localhost:8080/"
        },
        "outputId": "04c7dfd7-d40a-4892-ad0f-66f417b309d4"
      },
      "source": [
        "gpt2.mount_gdrive()"
      ],
      "execution_count": 10,
      "outputs": [
        {
          "output_type": "stream",
          "text": [
            "Drive already mounted at /content/drive; to attempt to forcibly remount, call drive.mount(\"/content/drive\", force_remount=True).\n"
          ],
          "name": "stdout"
        }
      ]
    },
    {
      "cell_type": "code",
      "metadata": {
        "colab": {
          "base_uri": "https://localhost:8080/"
        },
        "id": "qi80uEQwFPau",
        "outputId": "8182b996-aedb-4a28-d210-1328e3362ae6"
      },
      "source": [
        "from google.colab import drive\n",
        "drive.mount('/content/drive')"
      ],
      "execution_count": 3,
      "outputs": [
        {
          "output_type": "stream",
          "text": [
            "Drive already mounted at /content/drive; to attempt to forcibly remount, call drive.mount(\"/content/drive\", force_remount=True).\n"
          ],
          "name": "stdout"
        }
      ]
    },
    {
      "cell_type": "markdown",
      "metadata": {
        "id": "BT__brhBCvJu"
      },
      "source": [
        "## Uploading the wine corpus text to be trained to Colaboratory\n",
        "\n",
        "The working directory is ('/content/drive')"
      ]
    },
    {
      "cell_type": "code",
      "metadata": {
        "id": "6OFnPCLADfll"
      },
      "source": [
        "file_name = \"wine_review_corpus.txt\""
      ],
      "execution_count": 11,
      "outputs": []
    },
    {
      "cell_type": "markdown",
      "metadata": {
        "id": "HeeSKtNWUedE"
      },
      "source": [
        "Since my text file is 29.1MB (> 10MB), I uploaded the corpus txt to Google Drive first, then copied that file from Google Drive to the Colaboratory VM."
      ]
    },
    {
      "cell_type": "code",
      "metadata": {
        "id": "-Z6okFD8VKtS"
      },
      "source": [
        "gpt2.copy_file_from_gdrive(file_name)"
      ],
      "execution_count": 12,
      "outputs": []
    },
    {
      "cell_type": "markdown",
      "metadata": {
        "id": "LdpZQXknFNY3"
      },
      "source": [
        "## Finetune GPT-2\n",
        "\n",
        "The next cell will start the actual finetuning of GPT-2. It creates a persistent TensorFlow session which stores the training config, then runs the training for the specified number of `steps`. (to have the finetuning run indefinitely, set `steps = -1`)\n",
        "\n",
        "The model checkpoints will be saved in `/checkpoint/runxxxM` by default. The checkpoints are saved every 1000 steps and when the cell is stopped.\n",
        "\n",
        "The training might time out after 4ish hours; make sure you end training and save the results so you don't lose them!\n",
        "\n",
        "**IMPORTANT NOTE:** To rerun this cell, **restart the VM first** (Runtime -> Restart Runtime). Rerun imports but not recopy files.\n",
        "\n",
        "Other optional-but-helpful parameters for `gpt2.finetune`:\n",
        "\n",
        "*  **`restore_from`**: Set to `fresh` to start training from the base GPT-2, or set to `latest` to restart training from an existing checkpoint.\n",
        "* **`sample_every`**: Number of steps to print example output\n",
        "* **`print_every`**: Number of steps to print training progress.\n",
        "* **`learning_rate`**:  Learning rate for the training. (default `1e-4`, can lower to `1e-5` if you have <1MB input data)\n",
        "*  **`run_name`**: subfolder within `checkpoint` to save the model. This is useful if you want to work with multiple models (will also need to specify  `run_name` when loading the model)\n",
        "* **`overwrite`**: Set to `True` if you want to continue finetuning an existing model (w/ `restore_from='latest'`) without creating duplicate copies. \n",
        "\n",
        "I did not further experiment with additional parameters."
      ]
    },
    {
      "cell_type": "code",
      "metadata": {
        "id": "aeXshJM-Cuaf",
        "colab": {
          "base_uri": "https://localhost:8080/"
        },
        "outputId": "26708940-6541-44f7-a5ea-22dca0cf5ebc"
      },
      "source": [
        "sess = gpt2.start_tf_sess()\n",
        "\n",
        "gpt2.finetune(sess,\n",
        "              dataset=file_name,\n",
        "              model_name='355M',\n",
        "              steps=1000,\n",
        "              restore_from='fresh',\n",
        "              run_name='run355M',\n",
        "              print_every=10,\n",
        "              sample_every=200,\n",
        "              save_every=500\n",
        "              )"
      ],
      "execution_count": 13,
      "outputs": [
        {
          "output_type": "stream",
          "text": [
            "WARNING:tensorflow:From /usr/local/lib/python3.6/dist-packages/gpt_2_simple/src/sample.py:17: where (from tensorflow.python.ops.array_ops) is deprecated and will be removed in a future version.\n",
            "Instructions for updating:\n",
            "Use tf.where in 2.0, which has the same broadcast rule as np.where\n",
            "WARNING:tensorflow:From /usr/local/lib/python3.6/dist-packages/gpt_2_simple/src/memory_saving_gradients.py:62: get_backward_walk_ops (from tensorflow.contrib.graph_editor.select) is deprecated and will be removed after 2019-06-06.\n",
            "Instructions for updating:\n",
            "Please use tensorflow.python.ops.op_selector.get_backward_walk_ops.\n",
            "Loading checkpoint models/355M/model.ckpt\n",
            "INFO:tensorflow:Restoring parameters from models/355M/model.ckpt\n"
          ],
          "name": "stdout"
        },
        {
          "output_type": "stream",
          "text": [
            "\r  0%|          | 0/1 [00:00<?, ?it/s]"
          ],
          "name": "stderr"
        },
        {
          "output_type": "stream",
          "text": [
            "Loading dataset...\n"
          ],
          "name": "stdout"
        },
        {
          "output_type": "stream",
          "text": [
            "100%|██████████| 1/1 [00:26<00:00, 26.82s/it]\n"
          ],
          "name": "stderr"
        },
        {
          "output_type": "stream",
          "text": [
            "dataset has 6794543 tokens\n",
            "Training...\n",
            "[10 | 17.01] loss=3.42 avg=3.42\n",
            "[20 | 25.81] loss=3.53 avg=3.47\n",
            "[30 | 34.61] loss=3.12 avg=3.35\n",
            "[40 | 43.42] loss=3.22 avg=3.32\n",
            "[50 | 52.22] loss=3.15 avg=3.28\n",
            "[60 | 61.02] loss=3.33 avg=3.29\n",
            "[70 | 69.82] loss=3.19 avg=3.28\n",
            "[80 | 78.62] loss=3.11 avg=3.26\n",
            "[90 | 87.41] loss=3.22 avg=3.25\n",
            "[100 | 96.21] loss=3.05 avg=3.23\n",
            "[110 | 105.05] loss=2.94 avg=3.20\n",
            "[120 | 113.85] loss=2.58 avg=3.15\n",
            "[130 | 122.64] loss=3.01 avg=3.14\n",
            "[140 | 131.44] loss=3.16 avg=3.14\n",
            "[150 | 140.23] loss=3.17 avg=3.14\n",
            "[160 | 149.03] loss=2.67 avg=3.11\n",
            "[170 | 157.83] loss=3.12 avg=3.11\n",
            "[180 | 166.62] loss=2.89 avg=3.10\n",
            "[190 | 175.42] loss=3.22 avg=3.10\n",
            "[200 | 184.21] loss=2.94 avg=3.09\n",
            "======== SAMPLE 1 ========\n",
            " wine flavors of vanilla and cinnamon. the texture is long and slightly chewy. with its fruity and almost tropical flavors, this will turn into more of a medium-bodied chardonnay, but for now, it's a good bottle-name, and worth adding to the cellar. aromas for this wine are almost all white-flowered and floral, and this wine will also be a very fruity wine for the price. a good, clean wine for summer drinking. this wine is quite simple, very dry and very concentrated, but with its flavors, it's all fresh and very easy to like. this blend of malbec, bramoudeau and syrah is a very balanced wine, though slightly bitter. it smells to be from the ripe fruit, a good sign; it's also smooth and round, though the tannins are not quite as high as some years. there's nothing that smells too heavily and overripe, or too sharp, but this will be a big, sugary wine. this ripe, full-bodied wine is already showing its fruits at the moment. at the very least, it should come from the oak-based estates. this wine is a bit heavy in tone, with red fruit, fruit and a slightly tannic character. definitely a red wine for a very fruity wine, this one with its flavors. it's still very young now, so drink after 2015. not for easy drinking but it can do a lot of good. tastes spicy and sour, with flavors of blueberries, toasted almonds and a bit of green pepper on the nose. not particularly fruity, with an oily mouthfeel. smells like fresh apples, with flavors of honey, peaches, and cola. this wine is in a good place, already showing its fruity flavors, and will become smoother with time. it does taste good, and is already the wine to beat for dinner-time drinking. it might be not for eating by itself, but with its rich, chewy texture, it's best to give it a while to unwind. a good, well-made wine, though still under-aged and still very fresh. is very rich in fruit, with its fresh acidity and the acidity up front. the finish is smooth, but not quite polished. this wine will be an attractive wine for a couple of years, and should mature as this grape goes. with a firm tannic core, it has a lot of good flavor, but with a strong streak of dark fruit. with fruit-heavy fruit, this wine is firm and will age, and with its acidity, it does have some age as well. drink after 2015. a very fruity wine from the estate, with its rich aromas, its smooth palate and the tannins and acidity to keep it light. a touch of red cherry syrup is also there. a ripe wine with a fresh, easy touch. it's good for a low-priced and casual wine, or perhaps for a cheap one-off for special occasion. at the moment, this is a very fresh wine, with fresh-fruit notes, but with the complexity to back it up. with the ripe notes of apples on the nose, this is a nice blend of fruit and tangerine pico, a bit bitter for a wine this age-worthy. will be fine in three to five years. not for much aging, but it should be good for a few months, which is good even if you're not interested in aging. shows a smoky, herbal aspect, but not a lot of tannin to go with it. is a lot like a traditional zinfandel, with a lot of acidity and it tastes fresh and fresh in the mouth with its acidity. drinks on the dry side at this point. this wine is just not at all rich, but certainly ripe in fruit and ripe, with some sort of pithy edge to the white-plum flavors. a good wine, with a light touch, smooth and elegant. this is a simple wine with flavors of blackberries, chocolate and cedar. the tannins aren't very high. it could go in the future but will most likely change. will help sell the bottle. this wine makes a good apple juice-based cocktail wine. with its acidity, it offers a bright, juicy apple flavor, and all of the fruit that gives apple pie, apple and pear flavors. a bit sweet and smoky but not too much. offers good aromas of blueberry jelly, toasted oak and toasted almonds. it's very drinkable, showing some heat, but still more fruity and light. a touch of oak, oak, smoke and plum pie to finish. offers a bright apple aroma, along with a hint of a citrus zest note. it's the right level of fruit, and the wine is ready to drink. this is one of the more popular wines in the zinfandel lineup. with its light\n",
            "\n",
            "[210 | 211.01] loss=3.19 avg=3.10\n",
            "[220 | 219.80] loss=2.89 avg=3.09\n",
            "[230 | 228.60] loss=2.35 avg=3.05\n",
            "[240 | 237.40] loss=2.95 avg=3.05\n",
            "[250 | 246.19] loss=2.95 avg=3.04\n",
            "[260 | 254.98] loss=3.02 avg=3.04\n",
            "[270 | 263.78] loss=3.05 avg=3.04\n",
            "[280 | 272.58] loss=3.16 avg=3.05\n",
            "[290 | 281.37] loss=2.60 avg=3.03\n",
            "[300 | 290.17] loss=2.84 avg=3.02\n",
            "[310 | 298.96] loss=2.86 avg=3.02\n",
            "[320 | 307.76] loss=3.05 avg=3.02\n",
            "[330 | 316.56] loss=2.74 avg=3.01\n",
            "[340 | 325.35] loss=2.84 avg=3.00\n",
            "[350 | 334.15] loss=2.97 avg=3.00\n",
            "[360 | 342.95] loss=2.68 avg=2.99\n",
            "[370 | 351.75] loss=3.28 avg=3.00\n",
            "[380 | 360.54] loss=2.79 avg=2.99\n",
            "[390 | 369.34] loss=2.80 avg=2.99\n",
            "[400 | 378.13] loss=2.98 avg=2.99\n",
            "======== SAMPLE 1 ========\n",
            " vintage and fresh, with great acidity. it offers fresh fruit flavors and a juicy, velvety texture that will age and develop over its seven years. crisp apple and citrus notes, with some tannins, make for an attractive zesty mouthfeel. there's just enough acidity to keep the drink fresh and clean. drink with food. herbal, slightly bitter acidity gives this wine a sour edge. that's what many liqueur and wine serapses have that gets them into trouble. this blend of chardonnay and pinot noir is a touch sweet, with herbal flavors of cherries, oranges, nectarine and honey. it finishes a bit sour, with herbal flavors of rose petals, honey, green apple skin and herbs. this is a big fruity wine, made from sangiovese and a large quantity of sicilian berry fruits. black cherry and raspberry aromas are clean with just a touch of acidity and acidity. it has a soft build, with ample acidity to cut through the palate and give some additional acidity. it has a long, lingering finish. this is made from sangiovese from the north of the principality of cunaria. ripe black-cherry and raspberry jam flavors finish with spicy herbs and a touch of spice. it's a great, ready-to-drink wine with a soft, full mouthfeel and ample acidity to give a fresh character. drink through 2021. this blend of sangiovese and pinot nero is ready to drink. it's a firm wine that offers strong black and purple fruit flavors. the blackberry fruit flavors finish long, with a touch of nuttiness. it's a wine to age. made from pinot nero from the north of california, this is a firm-bodied wine with a firm structure to hold up the flavors of acidity and juicy red-berry fruit. there's a good amount of acidity to give the wine a light aura. it's firm and firm, with a firm structure that will hold it up through its next five years after fermentation. the wine is ready to drink. from the north of california, sangiovese is the traditional goatee grape. the wine is tight and fresh, with a dry character to give it structure and a dry finish. the wine comes from northern california (also called sangiovese); it's ready to drink. this is an elegant and fruity pinot with its fruit-forward character and gentle tannins. there is a dry, fresh character and bright red-berry fruit flavors all wrapped in smooth acidity. the finish concludes with a touch of honey. the vineyard of rafael de la fonte and his wife, an avid wine collector, is on the slopes of sicily, where they produce pinot nero, cabernet sauvignon and syrah. it's a wine of great fruit, with its full red-berry fruit and herbal flavors. fresh acidity from the oak enhances the wine's mineral-driven richness. it's ready to drink, with a light toast character. this is a blend of sangiovese from all three principal southern california varietas. black currants, cranberries and red cherries finish strong and bright. it's not a wine for aging, so give it a few more years. made from chianti from the north of california and a quarter of sangiovese (40%), this is a fruity wine that is light enough to drink young. it's lively and sweet with black-plum fruits, with just a touch of tannin. it needs to age and refine, so do not drink before 2022. this blend of sangiovese and merlot takes the best from sangiovese (23%) and other northern california variety. it's lively and tight, with a bright character that keeps it interested through its tight finish. a blend of 60% pinot trattoria, 23% rondinella and 14% syrah, this full-bodied wine offers a tight, juicy character, with a touch of sweetness. there is a rounded character that has a touch of oak to add interest to the black-fruit flavors while also giving the wine extra weight. it's ready to drink. produced from sangiovese and vinta sicilizata and a few other vineyards, this is a fruity wine, with a soft, rounded texture. it's medium bodied and has the structure to go with the fruit. it's a wine for aging. this is a bright, fresh wine with its bright fruit notes of grapefruit, peach and lemon. the wine is ripe and soft, with a crisp character. it's bright but also fresh, with a touch of sweetness to balance the fresh fruit notes. this delicious wine comes from sicily, the southern most of california counties. in all fairness, it's full of the\n",
            "\n",
            "[410 | 402.60] loss=3.05 avg=2.99\n",
            "[420 | 411.43] loss=2.59 avg=2.98\n",
            "[430 | 420.24] loss=2.97 avg=2.98\n",
            "[440 | 429.04] loss=2.52 avg=2.96\n",
            "[450 | 437.84] loss=2.34 avg=2.95\n",
            "[460 | 446.64] loss=3.51 avg=2.96\n",
            "[470 | 455.44] loss=2.84 avg=2.96\n",
            "[480 | 464.23] loss=3.01 avg=2.96\n",
            "[490 | 473.03] loss=2.81 avg=2.96\n",
            "[500 | 481.83] loss=2.82 avg=2.95\n",
            "Saving checkpoint/run355M/model-500\n",
            "[510 | 497.24] loss=3.12 avg=2.96\n",
            "[520 | 506.04] loss=3.08 avg=2.96\n",
            "[530 | 514.84] loss=2.87 avg=2.96\n",
            "[540 | 523.63] loss=2.91 avg=2.96\n",
            "[550 | 532.43] loss=2.66 avg=2.95\n",
            "[560 | 541.22] loss=3.15 avg=2.95\n",
            "[570 | 550.02] loss=2.87 avg=2.95\n",
            "[580 | 558.82] loss=2.98 avg=2.95\n",
            "[590 | 567.62] loss=3.08 avg=2.96\n",
            "[600 | 576.42] loss=2.80 avg=2.95\n",
            "======== SAMPLE 1 ========\n",
            "-way finish. dry and crisp in flavor, this ripe, earthy red opens with notes of red fruit, red currants, pepper and a whiff of dark chocolate. it's crisp and dry in mouthfeel and finishes crisp and dry. light and fruity, this opens with notes of pineapple and lime, peach, cinnamon and anise. it's bright and fresh with good acidity to balance out the sweetness, with a creamy texture that keeps the finish fresh and clean. aromas of wild berry fruits, citrus spritz and a whiff of lemon blossom open this lightly concentrated red. the palate is creamy and simple, filled with yellow banana and orange flavors wrapped in tangerine acidity. crisp flavors and a juicy citrusy finish finish finish bright and dry. this opens with a scents of black plum, black-skinned fruit and anise. in the mouth, this is more complex, with red currant, spice and dark-skinned fruits. a juicy, bright finish is bright, with lively acidity that finishes smooth. the blend is 100% sangiovese and merlot, with the balance of the cabernet-tigerio blend. this opens with aromas of tobacco, cherry and blueberry which carry over to the palate thanks to the medium weight. in the mouth, there's a tart cherry flavor and a mineraly texture. bright acidity brightens the flavors, but the finish is simple and medium in body. black fruits, orange and vanilla aromas lead to a spicy middle palate with dried herb, black cherry and anise flavors. the wine tastes bright, while the finish finishes soft with a note of honey. this opens with aromas of ripe pear and citrus fruits. in the mouth, the palate is dense. pear flavor and astringent mineraly accents lead to a soft finish. an orange-greenish color and citrusy lemon aromas lead to a full palate that is medium to full bodied. citrusy citrus flavors finish lightly spicy with a note of vanilla. the aromas are a bit off center and the mouthfeel is slightly sticky, with green-skinned fruit aromas. the palate is green, with a bitter almond, vanilla and mineral character. lemon and apple aromas are a bit off center. a rawish finish finishes dry with a little astringency. this is aromas of herb, black cherry and earthy black-skinned fruit. a tart, tart texture and salty texture lead to bright acidity, while the finish is simple and straightforward. herbal aromas come with notes of peppermint and orange peel. the palate is dry, with a bitter almond and vanilla-sint-like-dried fruit-ripened flavors. vanilla and toast finish short but fresh. ripe orange and lime aromas are bright and open. a bright palate with juicy flavors of orange and grapefruit is bright with acidity. a citrusy finish is medium. bright aromas of tropical fruit are lively and open. an orangey, fresh palate with lime and peach flavors is fresh and clean. this finishes medium but has nice citrus and grapefruit aromas. a vibrant apple and peach palate with lively citrus flavors are lively and accessible. a soft finish leads to a refreshing, green finish. this opens with aromas of yellow fruit, orange peel and a whiff of vanilla. on the palate, this is dense, with yellow-fruit flavors. there's an edge of toast and lime on the finish. this opens with notes of plum and bitter lemon. it's a tight, acidic palate, with flavors of plum, citrus, orange and honeyed pineapple. flavors of lemon tart and grapefruit finish fast and clean. aromas of dried fig, toast, coffee-influenced coffee and toast-influenced coffee open. a tart palate with bitter plum flavors finishes with notes of grilled herb, black plum and savory spice. floral aromas of ripe herb, citrus and herb are followed by soft tannins in this dry, dry riesling. the palate is a little tight, with herbal, red-colored fruit flavors. a salty citrusy palate with orange acidity that finishes dry and cloying. on the nose, this smells like a mix of tropical fruits, apples and honey. the palate's tart flavor of fruit gets a little raw edge in a medium-bodied, fresh-feeling palate. tastes of orange and citrus finish with herbal accents. aromas of ripe, citrusy pineapple, vanilla and cinnamon lead to a soft, easy-drinking palate. tastes like a medium-bodied, creamy chorizo that finishes with a touch of toasty oak. this smells of citrus, buttered candied pear, melon and apple and is relatively sweet in body with apple and citrus flavors. a medium-bodied, round palate with bright flavors of apple and citrus finish quick and sweet. this has aromas of plum and cassis, but it's a touch unripe. a lightish palate with a citrusy, melony flavor finishes lightly fru\n",
            "\n",
            "[610 | 601.08] loss=2.88 avg=2.95\n",
            "[620 | 609.87] loss=3.06 avg=2.95\n",
            "[630 | 618.67] loss=2.93 avg=2.95\n",
            "[640 | 627.47] loss=2.52 avg=2.94\n",
            "[650 | 636.26] loss=2.96 avg=2.94\n",
            "[660 | 645.06] loss=2.82 avg=2.94\n",
            "[670 | 653.86] loss=2.71 avg=2.94\n",
            "[680 | 662.66] loss=2.89 avg=2.94\n",
            "[690 | 671.46] loss=2.60 avg=2.93\n",
            "[700 | 680.25] loss=3.02 avg=2.93\n",
            "[710 | 689.05] loss=2.83 avg=2.93\n",
            "[720 | 697.84] loss=2.73 avg=2.92\n",
            "[730 | 706.64] loss=3.02 avg=2.93\n",
            "[740 | 715.43] loss=2.75 avg=2.92\n",
            "[750 | 724.26] loss=3.04 avg=2.93\n",
            "[760 | 733.06] loss=2.75 avg=2.92\n",
            "[770 | 741.85] loss=2.90 avg=2.92\n",
            "[780 | 750.64] loss=3.07 avg=2.92\n",
            "[790 | 759.44] loss=2.69 avg=2.92\n",
            "[800 | 768.23] loss=2.85 avg=2.92\n",
            "======== SAMPLE 1 ========\n",
            " the aromas are not all at their peak yet but the wine has good weight and is ready to drink. an excellent value, with subtle aromas of crushed tomato vine, blueberry, coffee, cedar and cinnamon. the palate offers tart, fresh red cherry and raspberry alongside a strong pepper note. this offers a lot of concentration and a good mouthfeel, while the texture is light and supple. this wine is a bit rustic and dusty and needs time. the aromas of blueberry skins and underbrush dominate the nose, while the plum and berry flavors are soft and full bodied. still, the wine offers a good quality of tannin and acidity at a low price. aromas of leather and earth are a bit heavy and stalky, while the wine offers a touch of oak and cocoa that is in keeping with the style. but while there's a lot of rusticity from one barrel, the aromas are pleasant at least with the white cherry, blackberry and black pepper flavors. not quite ripe, this could develop its own flavors as it ages. this is rich and ripe with a touch of caramel to the raspberry, cherry and black cherry flavors. it has a touch of wood as well, a note of bitter almond and dark spices. the tannins are very firm. this is an aromatic blend of pinot noir, rosé brûlée and tannin. ripe and soft, with soft but concentrated flavors of blackberries, cherries, mocha and cola. but it is the dry, spicy character of tannins that stand out. very ripe and juicy, with jammy red currant fruit and plenty of flavor. not quite dry, but rich and fruity, with lots of ripe, sweet fruit flavors (especially pineapple pie). full bodied and soft, with a great touch of spice. this is a big, generous, ripe wine with dark cherries and blueberries. spice from wood aging adds complexity to the ripe finish. the tannins are thick yet silky, and the acidity is very fine. sweet and creamy, with rich brown sugar and molasses flavors that are full, almost sweet. made from 50% cabernet sauvignon, the wine is so dark and darkly concentrated it smells like chocolate. it has a smoky, caramelized finish, but there's still the rusticity of oak. just delicious and lovely. this is full-bodied and richly flavorful. it has that rustic element, with the tannins still present and the sweet blackberry, currant and plum flavors. light and tannic, with the acidity for a full-bodied wine. dark, concentrated and intense, and shows the power, with dark red fruits backed by the earthy, earthy, rustic aroma. yet it is also rich and concentrated, with delicious richness and intensity. ripe acidity is a real advantage that this cab can provide, especially given the richness of the vintage's acidity and the richness of the wine's fruit. it's a complex, deep, spicy wine that should help to soften it. the red berry flavors appear in the glass with a slight aroma and the wine also has a slightly wood-based character. with a slight smoky wood aroma, this bordeaux-syrah wine is packed with dark plum, blackberries, mocha and cinnamon flavors and firm tannins. with a thick texture, and a very smooth texture, it will be ready to drink by 2019. this is a very smooth wine, although some hints of toast and brown sugar are not fully integrated yet into the blackberry, cola and strawberry flavors that are balanced by brisk acidity and spice. the tannins are soft and silky. these should integrate well as this wine ages. this is a rich and oaky wine, with a lot of firmness to the tannins. it seems like the fruit has been burnt out, although plenty of ripe cherry fruit remains. the blackberry, black currant and molasses flavors are sweet and soft, with just a light touch of earthy, nutty, toasty character. a ripe, warm, rich wine that has just the right amount of fruit, the tannins not completely integrated. this is a well-managed, well-priced wine that shows how well a lot of oak contributes to a wine's richness. the tannins hold firm against the acidity and the bright acidity. this is a wine that shows a lot of restraint and care, especially considering it is very dark and concentrated already. it shows fine tannins and acidity, with flavors of blackberry and black currant. the wine has both acidity and a touch of toastiness that should integrate. oak is also incorporated in this beautiful wine's soft texture and silky mouthfeel. the finish is long and richly textured. an intriguing wine that is both wood and oak-aged. blackberries and black currants give\n",
            "\n",
            "[810 | 792.60] loss=2.92 avg=2.92\n",
            "[820 | 801.40] loss=2.46 avg=2.91\n",
            "[830 | 810.19] loss=2.69 avg=2.91\n",
            "[840 | 818.99] loss=2.24 avg=2.90\n",
            "[850 | 827.79] loss=2.77 avg=2.89\n",
            "[860 | 836.58] loss=2.23 avg=2.88\n",
            "[870 | 845.37] loss=2.36 avg=2.87\n",
            "[880 | 854.17] loss=2.88 avg=2.87\n",
            "[890 | 862.96] loss=2.97 avg=2.87\n",
            "[900 | 871.76] loss=2.43 avg=2.87\n",
            "[910 | 880.55] loss=2.59 avg=2.86\n",
            "[920 | 889.34] loss=2.74 avg=2.86\n",
            "[930 | 898.14] loss=2.64 avg=2.86\n",
            "[940 | 906.93] loss=2.58 avg=2.85\n",
            "[950 | 915.72] loss=2.54 avg=2.85\n",
            "[960 | 924.52] loss=2.80 avg=2.85\n",
            "[970 | 933.31] loss=2.64 avg=2.84\n",
            "[980 | 942.10] loss=2.72 avg=2.84\n",
            "[990 | 950.90] loss=3.00 avg=2.84\n",
            "[1000 | 959.70] loss=2.49 avg=2.84\n",
            "Saving checkpoint/run355M/model-1000\n",
            "WARNING:tensorflow:From /tensorflow-1.15.2/python3.6/tensorflow_core/python/training/saver.py:963: remove_checkpoint (from tensorflow.python.training.checkpoint_management) is deprecated and will be removed in a future version.\n",
            "Instructions for updating:\n",
            "Use standard file APIs to delete files with this prefix.\n"
          ],
          "name": "stdout"
        }
      ]
    },
    {
      "cell_type": "markdown",
      "metadata": {
        "id": "IXSuTNERaw6K"
      },
      "source": [
        "After the model is trained, I copied the checkpoint folder to my Drive. When Collab is restarted all variables including the model results are lost. Collab resets it all unless saved to drive it will be lost."
      ]
    },
    {
      "cell_type": "code",
      "metadata": {
        "id": "VHdTL8NDbAh3"
      },
      "source": [
        "gpt2.copy_checkpoint_to_gdrive(run_name='run355M')"
      ],
      "execution_count": 14,
      "outputs": []
    },
    {
      "cell_type": "markdown",
      "metadata": {
        "id": "qQJgV_b4bmzd"
      },
      "source": [
        "The retrained model is ready. It was extremely painless, Google Collab Pro works like a champ. Next is generating text based on the wine corpus domain specific retrained model."
      ]
    },
    {
      "cell_type": "markdown",
      "metadata": {
        "id": "pel-uBULXO2L"
      },
      "source": [
        "## Load a saved Model Checkpoint from Gdrive to VM\n",
        "\n",
        "Copy the `.rar` checkpoint file from your Drive back into the Colaboratory VM. This is very useful when switching between models. Whenever I change I model I have to restart runtime. So when I want to generate text I need to start from this point.\n",
        "One thing to note here, after I run the above copy_checkpoint to gdrive, I had to run below copy_checkpoint_from_gdrive for it to save into my gdrive. Below step is for loading gdrive to virtual vm"
      ]
    },
    {
      "cell_type": "code",
      "metadata": {
        "id": "DCcx5u7sbPTD"
      },
      "source": [
        "#gpt2.copy_checkpoint_from_gdrive(run_name='run124M')\n",
        "gpt2.copy_checkpoint_from_gdrive(run_name='run355M')"
      ],
      "execution_count": 15,
      "outputs": []
    },
    {
      "cell_type": "markdown",
      "metadata": {
        "id": "RTa6zf3e_9gV"
      },
      "source": [
        "The next cell will allow you to load the retrained model checkpoint + metadata necessary to generate text.\n",
        "\n",
        "**IMPORTANT NOTE:** If you want to rerun this cell, **restart the VM first** (Runtime -> Restart Runtime). You will need to rerun imports but not recopy files."
      ]
    },
    {
      "cell_type": "code",
      "metadata": {
        "colab": {
          "base_uri": "https://localhost:8080/"
        },
        "id": "bS-AL3FOv09Z",
        "outputId": "1bd68de3-dca6-4be7-9beb-a64d8f7deb3f"
      },
      "source": [
        "# restart runtime first\n",
        "%tensorflow_version 1.x\n",
        "!pip install -q gpt-2-simple\n",
        "import gpt_2_simple as gpt2\n",
        "from datetime import datetime\n",
        "from google.colab import files"
      ],
      "execution_count": 1,
      "outputs": [
        {
          "output_type": "stream",
          "text": [
            "TensorFlow 1.x selected.\n",
            "WARNING:tensorflow:\n",
            "The TensorFlow contrib module will not be included in TensorFlow 2.0.\n",
            "For more information, please see:\n",
            "  * https://github.com/tensorflow/community/blob/master/rfcs/20180907-contrib-sunset.md\n",
            "  * https://github.com/tensorflow/addons\n",
            "  * https://github.com/tensorflow/io (for I/O related ops)\n",
            "If you depend on functionality not listed there, please file an issue.\n",
            "\n"
          ],
          "name": "stdout"
        }
      ]
    },
    {
      "cell_type": "code",
      "metadata": {
        "id": "-fxL77nvAMAX",
        "colab": {
          "base_uri": "https://localhost:8080/"
        },
        "outputId": "6efe9ac0-9039-4593-a057-a8597013d445"
      },
      "source": [
        "# sess = gpt2.start_tf_sess()\n",
        "# gpt2.load_gpt2(sess, run_name='run124M')\n",
        "\n",
        "sess2 = gpt2.start_tf_sess()\n",
        "gpt2.load_gpt2(sess2, run_name='run355M')"
      ],
      "execution_count": 2,
      "outputs": [
        {
          "output_type": "stream",
          "text": [
            "Loading checkpoint checkpoint/run355M/model-1000\n",
            "INFO:tensorflow:Restoring parameters from checkpoint/run355M/model-1000\n"
          ],
          "name": "stdout"
        }
      ]
    },
    {
      "cell_type": "markdown",
      "metadata": {
        "id": "ClJwpF_ACONp"
      },
      "source": [
        "## Generate Text From The Trained Model\n",
        "\n",
        "After you've trained the model or loaded a retrained model from checkpoint, you can now generate text. `generate` generates a single text from the loaded model."
      ]
    },
    {
      "cell_type": "code",
      "metadata": {
        "id": "4RNY6RBI9LmL",
        "colab": {
          "base_uri": "https://localhost:8080/"
        },
        "outputId": "a038f015-8a76-4107-896c-6b028a8477e1"
      },
      "source": [
        "#2gpt2.generate(sess, run_name='run124M')\n",
        "gpt2.generate(sess2, run_name='run355M')"
      ],
      "execution_count": 5,
      "outputs": [
        {
          "output_type": "stream",
          "text": [
            "keeps the aromas fresh with further decanting. this is a richly textured cabernet, with ripe fruit, spice and herbs aromas and flavors that are reminiscent of a sb with a little more depth and length. the mouthfeel is soft and plush with a firm, fine-grained tannins. the wine is ready to drink. this smells of ripe black currant, licorice, leather and a touch of baking spice. the palate is tight and tight, with a deep core of tannin and acidity. the finish is spicy and peppery. drink through 2017. this is a lively, vibrant and full-bodied wine with a combination of fruit and barrel flavors that add a creamy texture to the rich blackberry and black currant fruit. it has a firm, tannic structure and a finish that is spicy and peppery. drink through 2018. this is a fresh and fruity wine from the highland area of the cabernet region, with notes of citrus, apple and toast. it is lightly structured, with a slightly soft structure. the wine is ready to drink. this is a ripe, structured, full-bodied wine with notes of black cherry, mocha and coffee. the wine is full bodied, full of juicy, ripe fruit character. the texture is firm, with a firm, fine-grained tannins. the wine is ready to drink. this is a wine with a strong concentration of fruit and barrel flavors. the acidity is crisp, while the tannins are firm, giving the wine firmness. the wood aging has been added to this wine, the result of several years of aging. the wine is a blend of nine different bordeaux grapes, all showing the same bright, crisp acidity. it is light, with a crisp, clean finish, with a touch of toastiness. drink now. this is a firm wine with a dark, dense texture and firm, dry tannins. it is dark, with blackberry and dark chocolate flavors. the acidity is spicy and the wine is young. drink from 2017. this is a concentrated wine with ripe black fruit flavors along with hints of leather and coffee. it has a rich texture, with firm tannins and a soft finish. drink from 2017. this is the winery's first vintage of cabernet from a new vineyard site in the cools. it's an impressive wine, with licorice, blackberry, chocolate and tobacco flavors. the wine is firm and firm with a tannic structure. drink from 2017. the winery has a previous winemaking history with this blend of cabernets from south of the region. it's lush and perfumed with notes of blackberry, black cherry and a touch of dried flowers. it has that rich character from the past vintage, although it is a touch syrupy. a dry, tannic wine, with a strong mineral texture and firm tannins. the fruit is there, but not quite integrated. drink from 2022. this is a rich, plump cabernet with a rich texture. it's structured, with dark tannins and a full mouthfeel. it has a smoky character from the fermentation, which gives the wine a rich, toastier side. the fruit is still there, giving it richness. drink from 2020. this is a light wine with subtle aromas of fruit along with a touch of asphalt. the wine is soft with a crisp finish. drink from 2024. this is a compact, compact wine, and it lacks the rich, ripe, mature fruit flavors of the vintage. it has a dry texture, with firm tannins and a dry, herbal character. the fruit is still young, with just a hint of power. drink from 2024. this is a structured wine, with a firm, firm, tannic character. with the fruit still being mature, it is still a wine with a dry, tough side. the wine comes from the wine hall, which is a member of the united kingdom of hussain. with its rich black fruits, it is still young, with its firm tannins and a concentrated, dark character. drink from 2024. a powerful wine, with blackberry and cherry flavors that are still developing. the wine is structured, with firm tannins and firm acids. the wine is tough and solid, with a lot of structure at the moment. the wine will develop quickly, so drink from 2017. this is a structured wine with firm tannins and a potential for more juice from the minerality of the trees. the wine will be a wine of great fruit, with the right weight and the creaminess of the year. drink from 2017. this is a firm, firm wine, with a firm structure. the wine has a firm structure as well as the potential for the grape. it is still young and still firm and needs time. drink from 2017. this is a ripe wine, with juicy\n"
          ],
          "name": "stdout"
        }
      ]
    },
    {
      "cell_type": "markdown",
      "metadata": {
        "id": "oF4-PqF0Fl7R"
      },
      "source": [
        "There are a few option that I would like to note here. This returns a single string however if I was creating an API based on the model I just created and needed to pass the generated text elsewhere, I could have added `text = gpt2.generate(sess, return_as_list=True)[0]`\n",
        "\n",
        "I also thought passing a `prefix` of `This wine is` to the generate function to force the text to start with a given character sequence and generate text from there. I think this brings additional cohesiveness which I have been striving for.\n",
        "\n",
        "I also generated 5 texts at a time by specifing `nsamples`. Unique to GPT-2, you can pass a `batch_size` to generate multiple samples in parallel, giving a massive speedup which I also set to 5. (in Collaboratory, set a maximum of 20 for `batch_size`).\n",
        "\n",
        "Other optional-but-helpful parameters for `gpt2.generate`:\n",
        "\n",
        "*  **`length`**: Number of tokens to generate (default 1023, the maximum)\n",
        "* **`temperature`**: The higher the temperature, the crazier the text (default 0.7, recommended to keep between 0.7 and 1.0)\n",
        "* **`top_k`**: Limits the generated guesses to the top *k* guesses (default 0 which disables the behavior; if the generated output is super crazy, you may want to set `top_k=40`)\n",
        "* **`top_p`**: Nucleus sampling: limits the generated guesses to a cumulative probability. (gets good results on a dataset with `top_p=0.9`)\n",
        "* **`truncate`**: Truncates the input text until a given sequence, excluding that sequence (e.g. if `truncate='<|endoftext|>'`, the returned text will include everything before the first `<|endoftext|>`). It may be useful to combine this with a smaller `length` if the input texts are short.\n",
        "*  **`include_prefix`**: If using `truncate` and `include_prefix=False`, the specified `prefix` will not be included in the returned text.\n",
        "\n",
        "\n",
        "I think the to one here is the `include_prefix`. I would still have the desired effects of `This wine is ` but without the repetitive nature of the string.\n",
        "Also I set length to 45 tokens/words since on average it is between 40 and 50 words per reviews."
      ]
    },
    {
      "cell_type": "code",
      "metadata": {
        "colab": {
          "base_uri": "https://localhost:8080/"
        },
        "id": "cUkYVTV36sSb",
        "outputId": "c4d1bfe4-38d2-4e53-8493-f37722e0838e"
      },
      "source": [
        "!pwd"
      ],
      "execution_count": 7,
      "outputs": [
        {
          "output_type": "stream",
          "text": [
            "/content\n"
          ],
          "name": "stdout"
        }
      ]
    },
    {
      "cell_type": "code",
      "metadata": {
        "id": "9kFKjWmI7x03"
      },
      "source": [
        "#model_name='124M'\n",
        "model_name='355M'\n",
        "\n",
        "# I had folder path issues, which I solved with adding parameter names explicitly. namely model_name=model_name,"
      ],
      "execution_count": 11,
      "outputs": []
    },
    {
      "cell_type": "code",
      "metadata": {
        "colab": {
          "base_uri": "https://localhost:8080/"
        },
        "id": "BMQBiFsR7RvJ",
        "outputId": "2701ce53-67e2-45a7-86d4-23141b179eb3"
      },
      "source": [
        "gpt2.generate(sess,\n",
        "              model_name=model_name,\n",
        "              prefix=\"This wine is\",\n",
        "              length=45,\n",
        "              temperature=0.7,\n",
        "              top_p=0.9,\n",
        "              nsamples=5,\n",
        "              batch_size=5\n",
        "              )"
      ],
      "execution_count": 12,
      "outputs": [
        {
          "output_type": "stream",
          "text": [
            "WARNING:tensorflow:From /usr/local/lib/python3.6/dist-packages/gpt_2_simple/src/sample.py:32: where (from tensorflow.python.ops.array_ops) is deprecated and will be removed in a future version.\n",
            "Instructions for updating:\n",
            "Use tf.where in 2.0, which has the same broadcast rule as np.where\n",
            "This wine is made from merlot, cabernet sauvignon, petit verdot and petit verdot. it has a firm structure, with the fruit, wood and acidity of the variety. it is a wine\n",
            "====================\n",
            "This wine is big and bold, with concentrated blackberry, black currant and cola flavors. it's dry and firm, with a firm, dark tannic structure. a small amount of cabernet sauvignon gives\n",
            "====================\n",
            "This wine is a blend of cabernet sauvignon, merlot and petit verdot. it's rich in black cherry and blackberry jam, oak, and a good, solid tannin structure. drink now.\n",
            "====================\n",
            "This wine is a blend of cabernet sauvignon, merlot and petit verdot. it's a juicy wine with soft tannins, a ripe black cherry flavor and a light touch of acidity. it's\n",
            "====================\n",
            "This wine is made from the cabernet sauvignon and merlot varieties. it has a strongly tannic character that is characteristic of the variety. it is very dry and shows intense acidity. the wine is spicy and\n",
            "====================\n"
          ],
          "name": "stdout"
        }
      ]
    },
    {
      "cell_type": "code",
      "metadata": {
        "id": "8DKMc0fiej4N",
        "colab": {
          "base_uri": "https://localhost:8080/"
        },
        "outputId": "3820d7a6-2d55-4e8f-a8ec-2bba2667f1be"
      },
      "source": [
        "gpt2.generate(sess,\n",
        "              model_name=model_name,\n",
        "              length=45,\n",
        "              temperature=0.9,\n",
        "              prefix=\"This wine is\",\n",
        "              nsamples=5,\n",
        "              batch_size=5\n",
        "              )"
      ],
      "execution_count": 13,
      "outputs": [
        {
          "output_type": "stream",
          "text": [
            "This wine is exclusive to the national u.s. auction house of dan sommers. it's one of the price points that mark the high-end of merlot. crisp acidity and bright fruit flavors are beautifully interrupted by a\n",
            "====================\n",
            "This wine is crisp and fresh, with crisp lemon-lime acidity and easier-and-bitter tannins. with mulled pomegranate, baking spice and braces of basil and fennel on the long, vel\n",
            "====================\n",
            "This wine is dry, delicate and contemporary, with a creamy, supple mouthfeel and a pleasant fruity aftertaste. the following is a variety that is frequently used in this region formerly known as the loire valley. the wine\n",
            "====================\n",
            "This wine is made from vines from the arinto cannard grape. the amount of strong, red fruits is great, along with plenty of spice and tannins. the finish is dry and clean, with a note of chocolate. it\n",
            "====================\n",
            "This wine is a straight line between rosé and petit rouge. it starts off with crisp citrus flavors covered in caramel and honey, backed with firm acidity. it finishes with a rich, round texture and a hint of caramel\n",
            "====================\n"
          ],
          "name": "stdout"
        }
      ]
    },
    {
      "cell_type": "markdown",
      "metadata": {
        "id": "zjjEN2Tafhl2"
      },
      "source": [
        "**Bulk generation** \n",
        "Directly from Text to a file and sort out the samples locally on your computer. Below code will generate a text file with a timestamp."
      ]
    },
    {
      "cell_type": "code",
      "metadata": {
        "id": "Fa6p6arifSL0"
      },
      "source": [
        "gen_file = 'gpt2_gentext_{:%Y%m%d_%H%M%S}.txt'.format(datetime.utcnow())\n",
        "\n",
        "gpt2.generate_to_file(sess,\n",
        "                      model_name=model_name,\n",
        "                      destination_path=gen_file,\n",
        "                      length=45,\n",
        "                      temperature=0.7,\n",
        "                      top_p=0.9,\n",
        "                      prefix=\"This wine is\",\n",
        "                      nsamples=100,\n",
        "                      batch_size=20\n",
        "                      )"
      ],
      "execution_count": 16,
      "outputs": []
    },
    {
      "cell_type": "code",
      "metadata": {
        "id": "0-LRex8lfv1g",
        "colab": {
          "base_uri": "https://localhost:8080/",
          "height": 17
        },
        "outputId": "55babda0-ab6b-4fe8-e575-59f74e0ff1b7"
      },
      "source": [
        "# may have to run twice to get file to download\n",
        "files.download(gen_file)"
      ],
      "execution_count": 17,
      "outputs": [
        {
          "output_type": "display_data",
          "data": {
            "application/javascript": [
              "\n",
              "    async function download(id, filename, size) {\n",
              "      if (!google.colab.kernel.accessAllowed) {\n",
              "        return;\n",
              "      }\n",
              "      const div = document.createElement('div');\n",
              "      const label = document.createElement('label');\n",
              "      label.textContent = `Downloading \"${filename}\": `;\n",
              "      div.appendChild(label);\n",
              "      const progress = document.createElement('progress');\n",
              "      progress.max = size;\n",
              "      div.appendChild(progress);\n",
              "      document.body.appendChild(div);\n",
              "\n",
              "      const buffers = [];\n",
              "      let downloaded = 0;\n",
              "\n",
              "      const channel = await google.colab.kernel.comms.open(id);\n",
              "      // Send a message to notify the kernel that we're ready.\n",
              "      channel.send({})\n",
              "\n",
              "      for await (const message of channel.messages) {\n",
              "        // Send a message to notify the kernel that we're ready.\n",
              "        channel.send({})\n",
              "        if (message.buffers) {\n",
              "          for (const buffer of message.buffers) {\n",
              "            buffers.push(buffer);\n",
              "            downloaded += buffer.byteLength;\n",
              "            progress.value = downloaded;\n",
              "          }\n",
              "        }\n",
              "      }\n",
              "      const blob = new Blob(buffers, {type: 'application/binary'});\n",
              "      const a = document.createElement('a');\n",
              "      a.href = window.URL.createObjectURL(blob);\n",
              "      a.download = filename;\n",
              "      div.appendChild(a);\n",
              "      a.click();\n",
              "      div.remove();\n",
              "    }\n",
              "  "
            ],
            "text/plain": [
              "<IPython.core.display.Javascript object>"
            ]
          },
          "metadata": {
            "tags": []
          }
        },
        {
          "output_type": "display_data",
          "data": {
            "application/javascript": [
              "download(\"download_75aad54a-0f8e-45c8-a504-f02382c742fb\", \"gpt2_gentext_20201206_221909.txt\", 20552)"
            ],
            "text/plain": [
              "<IPython.core.display.Javascript object>"
            ]
          },
          "metadata": {
            "tags": []
          }
        }
      ]
    },
    {
      "cell_type": "code",
      "metadata": {
        "id": "rIHiVP53FnsX"
      },
      "source": [
        "!kill -9 -1 # force-kill the Collab"
      ],
      "execution_count": null,
      "outputs": []
    }
  ]
}